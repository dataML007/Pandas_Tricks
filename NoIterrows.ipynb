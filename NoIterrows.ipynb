{
  "nbformat": 4,
  "nbformat_minor": 0,
  "metadata": {
    "colab": {
      "name": "NoIterrows.ipynb",
      "provenance": [],
      "collapsed_sections": []
    },
    "kernelspec": {
      "name": "python3",
      "display_name": "Python 3"
    }
  },
  "cells": [
    {
      "cell_type": "markdown",
      "metadata": {
        "id": "PRVXJgqrMpQ3",
        "colab_type": "text"
      },
      "source": [
        "**No More Iterrows**\n",
        "\n",
        "Don't use Iterrows. We know they are too slow. A simple hack can help you speed up looping through a dataframe faster and efficient. I am demoing here a very simple example, as shown by Manuel Amuategui will save a lot of time while looping through dataframes.\n",
        "\n",
        "I downloaded the dataset which contains 1.5M records and ran the below in Google Colab. This notebook is available in the github page for your reference below:\n",
        "\n"
      ]
    },
    {
      "cell_type": "code",
      "metadata": {
        "id": "X1G2gr5fIqPX",
        "colab_type": "code",
        "colab": {
          "base_uri": "https://localhost:8080/",
          "height": 289
        },
        "outputId": "77042a78-92b2-435f-c799-f47961542da8"
      },
      "source": [
        "import pandas as pd\n",
        "## load the meta data from the CSV file \n",
        "df = pd.read_csv(drive_path + 'Sales.csv')\n",
        "df.head()"
      ],
      "execution_count": 6,
      "outputs": [
        {
          "output_type": "execute_result",
          "data": {
            "text/html": [
              "<div>\n",
              "<style scoped>\n",
              "    .dataframe tbody tr th:only-of-type {\n",
              "        vertical-align: middle;\n",
              "    }\n",
              "\n",
              "    .dataframe tbody tr th {\n",
              "        vertical-align: top;\n",
              "    }\n",
              "\n",
              "    .dataframe thead th {\n",
              "        text-align: right;\n",
              "    }\n",
              "</style>\n",
              "<table border=\"1\" class=\"dataframe\">\n",
              "  <thead>\n",
              "    <tr style=\"text-align: right;\">\n",
              "      <th></th>\n",
              "      <th>Region</th>\n",
              "      <th>Country</th>\n",
              "      <th>Item Type</th>\n",
              "      <th>Sales Channel</th>\n",
              "      <th>Order Priority</th>\n",
              "      <th>Order Date</th>\n",
              "      <th>Order ID</th>\n",
              "      <th>Ship Date</th>\n",
              "      <th>Units Sold</th>\n",
              "      <th>Unit Price</th>\n",
              "      <th>Unit Cost</th>\n",
              "      <th>Total Revenue</th>\n",
              "      <th>Total Cost</th>\n",
              "      <th>Total Profit</th>\n",
              "    </tr>\n",
              "  </thead>\n",
              "  <tbody>\n",
              "    <tr>\n",
              "      <th>0</th>\n",
              "      <td>Sub-Saharan Africa</td>\n",
              "      <td>South Africa</td>\n",
              "      <td>Fruits</td>\n",
              "      <td>Offline</td>\n",
              "      <td>M</td>\n",
              "      <td>7/27/2012</td>\n",
              "      <td>443368995</td>\n",
              "      <td>7/28/2012</td>\n",
              "      <td>1593</td>\n",
              "      <td>9.33</td>\n",
              "      <td>6.92</td>\n",
              "      <td>14862.69</td>\n",
              "      <td>11023.56</td>\n",
              "      <td>3839.13</td>\n",
              "    </tr>\n",
              "    <tr>\n",
              "      <th>1</th>\n",
              "      <td>Middle East and North Africa</td>\n",
              "      <td>Morocco</td>\n",
              "      <td>Clothes</td>\n",
              "      <td>Online</td>\n",
              "      <td>M</td>\n",
              "      <td>9/14/2013</td>\n",
              "      <td>667593514</td>\n",
              "      <td>10/19/2013</td>\n",
              "      <td>4611</td>\n",
              "      <td>109.28</td>\n",
              "      <td>35.84</td>\n",
              "      <td>503890.08</td>\n",
              "      <td>165258.24</td>\n",
              "      <td>338631.84</td>\n",
              "    </tr>\n",
              "    <tr>\n",
              "      <th>2</th>\n",
              "      <td>Australia and Oceania</td>\n",
              "      <td>Papua New Guinea</td>\n",
              "      <td>Meat</td>\n",
              "      <td>Offline</td>\n",
              "      <td>M</td>\n",
              "      <td>5/15/2015</td>\n",
              "      <td>940995585</td>\n",
              "      <td>6/4/2015</td>\n",
              "      <td>360</td>\n",
              "      <td>421.89</td>\n",
              "      <td>364.69</td>\n",
              "      <td>151880.40</td>\n",
              "      <td>131288.40</td>\n",
              "      <td>20592.00</td>\n",
              "    </tr>\n",
              "    <tr>\n",
              "      <th>3</th>\n",
              "      <td>Sub-Saharan Africa</td>\n",
              "      <td>Djibouti</td>\n",
              "      <td>Clothes</td>\n",
              "      <td>Offline</td>\n",
              "      <td>H</td>\n",
              "      <td>5/17/2017</td>\n",
              "      <td>880811536</td>\n",
              "      <td>7/2/2017</td>\n",
              "      <td>562</td>\n",
              "      <td>109.28</td>\n",
              "      <td>35.84</td>\n",
              "      <td>61415.36</td>\n",
              "      <td>20142.08</td>\n",
              "      <td>41273.28</td>\n",
              "    </tr>\n",
              "    <tr>\n",
              "      <th>4</th>\n",
              "      <td>Europe</td>\n",
              "      <td>Slovakia</td>\n",
              "      <td>Beverages</td>\n",
              "      <td>Offline</td>\n",
              "      <td>L</td>\n",
              "      <td>10/26/2016</td>\n",
              "      <td>174590194</td>\n",
              "      <td>12/4/2016</td>\n",
              "      <td>3973</td>\n",
              "      <td>47.45</td>\n",
              "      <td>31.79</td>\n",
              "      <td>188518.85</td>\n",
              "      <td>126301.67</td>\n",
              "      <td>62217.18</td>\n",
              "    </tr>\n",
              "  </tbody>\n",
              "</table>\n",
              "</div>"
            ],
            "text/plain": [
              "                         Region           Country  ... Total Cost Total Profit\n",
              "0            Sub-Saharan Africa      South Africa  ...   11023.56      3839.13\n",
              "1  Middle East and North Africa           Morocco  ...  165258.24    338631.84\n",
              "2         Australia and Oceania  Papua New Guinea  ...  131288.40     20592.00\n",
              "3            Sub-Saharan Africa          Djibouti  ...   20142.08     41273.28\n",
              "4                        Europe          Slovakia  ...  126301.67     62217.18\n",
              "\n",
              "[5 rows x 14 columns]"
            ]
          },
          "metadata": {
            "tags": []
          },
          "execution_count": 6
        }
      ]
    },
    {
      "cell_type": "code",
      "metadata": {
        "id": "ppIDjZckIz1S",
        "colab_type": "code",
        "colab": {
          "base_uri": "https://localhost:8080/",
          "height": 35
        },
        "outputId": "e5dce9d9-70fb-4243-9f1b-228da045f0b6"
      },
      "source": [
        "df.shape"
      ],
      "execution_count": 7,
      "outputs": [
        {
          "output_type": "execute_result",
          "data": {
            "text/plain": [
              "(1500000, 14)"
            ]
          },
          "metadata": {
            "tags": []
          },
          "execution_count": 7
        }
      ]
    },
    {
      "cell_type": "code",
      "metadata": {
        "id": "e7_KctLgKk9f",
        "colab_type": "code",
        "colab": {}
      },
      "source": [
        "import timeit"
      ],
      "execution_count": 11,
      "outputs": []
    },
    {
      "cell_type": "markdown",
      "metadata": {
        "id": "3cbRV7UCOGcN",
        "colab_type": "text"
      },
      "source": [
        "The below code utilizes the Iterrows() way. Simple looing through the dataframe and recording time taken to execute this function. It took a whopping <b>140 seconds</b> to loop through the dataframe!!!"
      ]
    },
    {
      "cell_type": "code",
      "metadata": {
        "id": "LmIB3tfpJlWp",
        "colab_type": "code",
        "colab": {
          "base_uri": "https://localhost:8080/",
          "height": 52
        },
        "outputId": "8d1ce809-7348-49d0-a3bd-97855acbea30"
      },
      "source": [
        "def iterrow_demo():\n",
        "  countries = []\n",
        "  for i,r in df.iterrows():\n",
        "    countries.append(r['Country'])\n",
        "\n",
        "t = timeit.Timer(\"iterrow_demo()\", globals=globals())\n",
        "time = t.timeit(1)\n",
        "print(\"The function took %fs\\n\" % (time,))"
      ],
      "execution_count": 13,
      "outputs": [
        {
          "output_type": "stream",
          "text": [
            "The function took 140.052834s\n",
            "\n"
          ],
          "name": "stdout"
        }
      ]
    },
    {
      "cell_type": "markdown",
      "metadata": {
        "id": "l6lc_7DjOlvl",
        "colab_type": "text"
      },
      "source": [
        "The below functions utilizes a simple hack by converting a dataframe to dictionary and looping through the dataframe takes only <b>37 seconds</b>, that's about <b>~4X faster</b> compared to the Iterrows()"
      ]
    },
    {
      "cell_type": "code",
      "metadata": {
        "id": "Mrm2iUioKZgo",
        "colab_type": "code",
        "colab": {
          "base_uri": "https://localhost:8080/",
          "height": 52
        },
        "outputId": "d0104b93-d1e5-4470-b56d-97dd9aad2a3b"
      },
      "source": [
        "def todict_way():\n",
        "  dict_copy = df.to_dict('records')\n",
        "  new_countries = []\n",
        "  for r in dict_copy:\n",
        "    new_countries.append(r['Country'])\n",
        "t = timeit.Timer(\"todict_way()\", globals=globals())\n",
        "time = t.timeit(1)\n",
        "print(\"The function took %fs\\n\" % (time,))"
      ],
      "execution_count": 24,
      "outputs": [
        {
          "output_type": "stream",
          "text": [
            "The function took 31.679437s\n",
            "\n"
          ],
          "name": "stdout"
        }
      ]
    },
    {
      "cell_type": "markdown",
      "metadata": {
        "id": "gBnCI6aFMO1f",
        "colab_type": "text"
      },
      "source": [
        ""
      ]
    }
  ]
}